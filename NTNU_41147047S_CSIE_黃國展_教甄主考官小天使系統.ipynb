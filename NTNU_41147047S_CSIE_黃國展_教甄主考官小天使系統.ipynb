{
 "cells": [
  {
   "cell_type": "markdown",
   "id": "38dc35d1",
   "metadata": {},
   "source": [
    "# 教檢自問自答"
   ]
  },
  {
   "cell_type": "code",
   "execution_count": 9,
   "id": "b41c08d5",
   "metadata": {},
   "outputs": [
    {
     "name": "stdout",
     "output_type": "stream",
     "text": [
      "Requirement already satisfied: groq in c:\\users\\ryan\\anaconda3\\lib\\site-packages (0.22.0)\n",
      "Requirement already satisfied: anyio<5,>=3.5.0 in c:\\users\\ryan\\anaconda3\\lib\\site-packages (from groq) (4.2.0)\n",
      "Requirement already satisfied: distro<2,>=1.7.0 in c:\\users\\ryan\\anaconda3\\lib\\site-packages (from groq) (1.9.0)\n",
      "Requirement already satisfied: httpx<1,>=0.23.0 in c:\\users\\ryan\\anaconda3\\lib\\site-packages (from groq) (0.27.0)\n",
      "Requirement already satisfied: pydantic<3,>=1.9.0 in c:\\users\\ryan\\anaconda3\\lib\\site-packages (from groq) (2.10.6)\n",
      "Requirement already satisfied: sniffio in c:\\users\\ryan\\anaconda3\\lib\\site-packages (from groq) (1.3.0)\n",
      "Requirement already satisfied: typing-extensions<5,>=4.10 in c:\\users\\ryan\\anaconda3\\lib\\site-packages (from groq) (4.13.0)\n",
      "Requirement already satisfied: idna>=2.8 in c:\\users\\ryan\\anaconda3\\lib\\site-packages (from anyio<5,>=3.5.0->groq) (3.7)\n",
      "Requirement already satisfied: certifi in c:\\users\\ryan\\anaconda3\\lib\\site-packages (from httpx<1,>=0.23.0->groq) (2025.1.31)\n",
      "Requirement already satisfied: httpcore==1.* in c:\\users\\ryan\\anaconda3\\lib\\site-packages (from httpx<1,>=0.23.0->groq) (1.0.2)\n",
      "Requirement already satisfied: h11<0.15,>=0.13 in c:\\users\\ryan\\anaconda3\\lib\\site-packages (from httpcore==1.*->httpx<1,>=0.23.0->groq) (0.14.0)\n",
      "Requirement already satisfied: annotated-types>=0.6.0 in c:\\users\\ryan\\anaconda3\\lib\\site-packages (from pydantic<3,>=1.9.0->groq) (0.6.0)\n",
      "Requirement already satisfied: pydantic-core==2.27.2 in c:\\users\\ryan\\anaconda3\\lib\\site-packages (from pydantic<3,>=1.9.0->groq) (2.27.2)\n",
      "Note: you may need to restart the kernel to use updated packages.\n"
     ]
    }
   ],
   "source": [
    "%pip install groq"
   ]
  },
  {
   "cell_type": "code",
   "execution_count": 2,
   "id": "bbcd894c",
   "metadata": {},
   "outputs": [
    {
     "name": "stdout",
     "output_type": "stream",
     "text": [
      "* Running on local URL:  http://127.0.0.1:7861\n",
      "\n",
      "To create a public link, set `share=True` in `launch()`.\n"
     ]
    },
    {
     "data": {
      "text/html": [
       "<div><iframe src=\"http://127.0.0.1:7861/\" width=\"100%\" height=\"500\" allow=\"autoplay; camera; microphone; clipboard-read; clipboard-write;\" frameborder=\"0\" allowfullscreen></iframe></div>"
      ],
      "text/plain": [
       "<IPython.core.display.HTML object>"
      ]
     },
     "metadata": {},
     "output_type": "display_data"
    }
   ],
   "source": [
    "import os\n",
    "import gradio as gr\n",
    "from groq import Groq\n",
    "\n",
    "# 設定 API 金鑰，請自行確認金鑰是否正確\n",
    "client = Groq(api_key=\"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\")\n",
    "\n",
    "def examiner_question():\n",
    "    \"\"\"\n",
    "    呼叫 groq API 生成主考官的甄選題目，\n",
    "    內容為針對 108 課綱提出教師甄選問題。\n",
    "    \"\"\"\n",
    "    messages = [\n",
    "        {\n",
    "            \"role\": \"user\",\n",
    "            \"content\": \"你是一個講繁體中文的臺灣國中的教師甄選主考官，你需要提出一個甄選題目來詢問面試者。範圍包刮以下其一 1. 學校行政 2. 課程設計 3. 教學法 4. 評量與評鑑 5. 班級經營 6. 家長溝通 7. 教師專業成長 8. 教育政策與法規。\"\n",
    "        }\n",
    "    ]\n",
    "    chat_completion = client.chat.completions.create(\n",
    "        messages=messages,\n",
    "        model=\"llama-3.3-70b-versatile\",\n",
    "    )\n",
    "    question = chat_completion.choices[0].message.content\n",
    "    return question\n",
    "\n",
    "def angel_suggestion(user_answer):\n",
    "    \"\"\"\n",
    "    呼叫 groq API 生成小天使的回應，\n",
    "    根據使用者回答進行錯誤找出、提出建議及提供其他可能的回答。\n",
    "    若使用者回答為空，則先取得主考官的題目，再根據該題目直接提供一個示範回答。\n",
    "    \"\"\"\n",
    "    if not user_answer.strip():\n",
    "        # 當使用者回答為空時，取得主考官題目作為參考\n",
    "        question = examiner_question()\n",
    "        prompt = f\"你是一個講繁體中文的小天使，請根據以下問題直接提供一個回答：{question}\"\n",
    "    else:\n",
    "        prompt = f\"你是一個講繁體中文的小天使，負責找出使用者回答中的錯誤、提出建議並提供其他可能的回答。請根據以下使用者的回答給出建議：{user_answer}\"\n",
    "    messages = [\n",
    "        {\n",
    "            \"role\": \"user\",\n",
    "            \"content\": prompt\n",
    "        }\n",
    "    ]\n",
    "    chat_completion = client.chat.completions.create(\n",
    "        messages=messages,\n",
    "        model=\"llama-3.3-70b-versatile\",\n",
    "    )\n",
    "    suggestion = chat_completion.choices[0].message.content\n",
    "    return suggestion\n",
    "\n",
    "def generate_exam_question():\n",
    "    return examiner_question()\n",
    "\n",
    "def generate_angel_feedback(user_answer):\n",
    "    return angel_suggestion(user_answer)\n",
    "\n",
    "with gr.Blocks() as demo:\n",
    "    gr.Markdown(\"## 教師甄選對話系統\")\n",
    "    \n",
    "    gr.Markdown(\"### 主考官 - 生成甄選題目\")\n",
    "    with gr.Row():\n",
    "        generate_btn = gr.Button(\"生成甄選題目\")\n",
    "        # 設定較多的 lines 及 max_lines 參數，讓文字框支援垂直捲軸\n",
    "        exam_question_output = gr.Textbox(label=\"甄選題目\", lines=10, max_lines=20)\n",
    "    generate_btn.click(generate_exam_question, outputs=exam_question_output)\n",
    "    \n",
    "    gr.Markdown(\"### 小天使 - 提供建議\")\n",
    "    with gr.Row():\n",
    "        user_answer_input = gr.Textbox(label=\"請輸入您的回答\", lines=10, max_lines=20)\n",
    "        feedback_btn = gr.Button(\"獲取建議\")\n",
    "        feedback_output = gr.Textbox(label=\"小天使建議\", lines=10, max_lines=20)\n",
    "    feedback_btn.click(generate_angel_feedback, inputs=user_answer_input, outputs=feedback_output)\n",
    "\n",
    "if __name__ == \"__main__\":\n",
    "    demo.launch()\n"
   ]
  }
 ],
 "metadata": {
  "kernelspec": {
   "display_name": "base",
   "language": "python",
   "name": "python3"
  },
  "language_info": {
   "codemirror_mode": {
    "name": "ipython",
    "version": 3
   },
   "file_extension": ".py",
   "mimetype": "text/x-python",
   "name": "python",
   "nbconvert_exporter": "python",
   "pygments_lexer": "ipython3",
   "version": "3.12.7"
  }
 },
 "nbformat": 4,
 "nbformat_minor": 5
}
