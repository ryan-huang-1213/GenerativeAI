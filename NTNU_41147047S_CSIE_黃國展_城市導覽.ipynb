{
 "cells": [
  {
   "cell_type": "markdown",
   "id": "e6aca93e",
   "metadata": {},
   "source": [
    "1. 前置作業：安裝 & 設定 Groq"
   ]
  },
  {
   "cell_type": "code",
   "execution_count": null,
   "id": "85dc80ad",
   "metadata": {},
   "outputs": [],
   "source": [
    "# 安裝相關套件\n",
    "%pip install -q groq \n",
    "%pip install gradio\n",
    "%pip install tensorflow\n",
    "%pip install numpy\n",
    "%pip install matplotlib\n",
    "%pip install pandas\n",
    "%pip install sklearn\n",
    "%pip install tensorflowjs\n",
    "%pip install -q sentence-transformers faiss-cpu\n",
    "%pip install tf-keras"
   ]
  },
  {
   "cell_type": "code",
   "execution_count": 1,
   "id": "0d700d24",
   "metadata": {},
   "outputs": [],
   "source": [
    "\n",
    "import numpy as np\n",
    "import pandas as pd\n",
    "import matplotlib.pyplot as plt\n",
    "import seaborn as sns\n",
    "\n",
    "from dotenv import load_dotenv\n",
    "from groq import Groq\n",
    "import os\n",
    "os.environ[\"TRANSFORMERS_NO_TF\"] = \"1\"\n",
    "\n",
    "\n",
    "# 讀取 .env 檔案中的環境變數\n",
    "load_dotenv()\n",
    "api_key = os.getenv(\"GROQ_API_KEY\")\n",
    "\n",
    "# 設定 API 金鑰，請自行確認金鑰是否正確\n",
    "client = Groq(api_key=api_key)\n",
    "\n",
    "# 在 Colab 中設定你的 GROQ API Key（可放在 Secrets 裡）\n",
    "\n",
    "\n"
   ]
  },
  {
   "cell_type": "markdown",
   "id": "8a152cd8",
   "metadata": {},
   "source": [
    "2. 定義 Retrieval + Generation 函數（改用 llama-3.3-70b-versatile）"
   ]
  },
  {
   "cell_type": "code",
   "execution_count": 3,
   "id": "32375e45",
   "metadata": {},
   "outputs": [],
   "source": [
    "# ── A. 禁用 Transformers TF 支援（保留即可） ───────────────\n",
    "import os\n",
    "os.environ[\"TRANSFORMERS_NO_TF\"] = \"1\"\n",
    "\n",
    "# ── B. 下載並解壓 zip（保持不變） ───────────────────────────\n",
    "import urllib.request, zipfile\n",
    "url = \"https://drive.google.com/uc?export=download&id=1KWwlS5lqqEmiuPNVAw05B76Jyg4JcqAF\"\n",
    "zip_path = \"city_guide_dataset.zip\"\n",
    "urllib.request.urlretrieve(url, zip_path)\n",
    "with zipfile.ZipFile(zip_path, \"r\") as z:\n",
    "    z.extractall(\"city_data\")\n",
    "\n",
    "# ── C. 用 Scikit-Learn 做 TF-IDF Embedding + 檢索 ────────────\n",
    "from sklearn.feature_extraction.text import TfidfVectorizer\n",
    "from sklearn.metrics.pairwise import linear_kernel\n",
    "import glob, os\n",
    "\n",
    "# 1) 讀入所有 txt 檔\n",
    "docs, meta = [], []\n",
    "for fn in glob.glob(\"city_data/*.txt\"):\n",
    "    city = os.path.splitext(os.path.basename(fn))[0]\n",
    "    with open(fn, encoding=\"utf-8\") as f:\n",
    "        for line in f:\n",
    "            line = line.strip()\n",
    "            if not line: continue\n",
    "            docs.append(line)\n",
    "            meta.append(city)\n",
    "\n",
    "# 2) 建立 TF-IDF 矩陣\n",
    "vectorizer = TfidfVectorizer()\n",
    "tfidf_matrix = vectorizer.fit_transform(docs)\n",
    "\n",
    "# 3) 定義 retrieve\n",
    "def retrieve(query, top_k=3):\n",
    "    q_vec = vectorizer.transform([query])\n",
    "    cosine_similarities = linear_kernel(q_vec, tfidf_matrix).flatten()\n",
    "    best_idx = cosine_similarities.argsort()[-top_k:][::-1]\n",
    "    return \"\\n\".join(f\"[{meta[i]}] {docs[i]}\" for i in best_idx)\n",
    "\n",
    "from groq import Groq\n",
    "client = Groq(api_key=os.environ[\"GROQ_API_KEY\"])\n",
    "\n",
    "def citybot_chat(user_input):\n",
    "    context = retrieve(user_input, top_k=3)\n",
    "    system_msg = {\"role\":\"system\",\"content\":\"你是一個旅遊 AI 諮詢師，請根據檢索到的城市導覽資訊，給使用者完整、詳盡且有禮的建議。\"}\n",
    "    user_msg = {\"role\":\"user\",\"content\":f\"\"\"== 檢索結果 ==\\n{context}\\n\\n== 使用者提問 ==\\n{user_input}\\n\\n請根據上述資訊作答。\"\"\"}\n",
    "    resp = client.chat.completions.create(\n",
    "        model=\"llama-3.3-70b-versatile\",\n",
    "        messages=[system_msg, user_msg],\n",
    "        temperature=0.7,\n",
    "        max_tokens=300\n",
    "    )\n",
    "    return resp.choices[0].message.content.strip()\n"
   ]
  },
  {
   "cell_type": "markdown",
   "id": "8ae4bb93",
   "metadata": {},
   "source": [
    "3. Gradio 介面"
   ]
  },
  {
   "cell_type": "code",
   "execution_count": 4,
   "id": "23e97beb",
   "metadata": {},
   "outputs": [
    {
     "name": "stdout",
     "output_type": "stream",
     "text": [
      "* Running on local URL:  http://127.0.0.1:7860\n",
      "* Running on public URL: https://92aebdfd481231c113.gradio.live\n",
      "\n",
      "This share link expires in 72 hours. For free permanent hosting and GPU upgrades, run `gradio deploy` from the terminal in the working directory to deploy to Hugging Face Spaces (https://huggingface.co/spaces)\n"
     ]
    },
    {
     "data": {
      "text/html": [
       "<div><iframe src=\"https://92aebdfd481231c113.gradio.live\" width=\"100%\" height=\"500\" allow=\"autoplay; camera; microphone; clipboard-read; clipboard-write;\" frameborder=\"0\" allowfullscreen></iframe></div>"
      ],
      "text/plain": [
       "<IPython.core.display.HTML object>"
      ]
     },
     "metadata": {},
     "output_type": "display_data"
    },
    {
     "data": {
      "text/plain": []
     },
     "execution_count": 4,
     "metadata": {},
     "output_type": "execute_result"
    }
   ],
   "source": [
    "import gradio as gr\n",
    "\n",
    "iface = gr.Interface(\n",
    "    fn=citybot_chat,\n",
    "    inputs=gr.Textbox(lines=2, placeholder=\"輸入，例如：我想去看古蹟，推薦哪個城市？\"),\n",
    "    outputs=\"text\",\n",
    "    title=\"🏙️ CityBot 旅遊向導（Groq + Llama）\",\n",
    "    description=\"基於 RAG 檢索及 Groq Llama-3.3-70b-versatile，給你最合適的城市旅遊建議！\"\n",
    ")\n",
    "\n",
    "iface.launch(share=True)\n"
   ]
  }
 ],
 "metadata": {
  "kernelspec": {
   "display_name": "base",
   "language": "python",
   "name": "python3"
  },
  "language_info": {
   "codemirror_mode": {
    "name": "ipython",
    "version": 3
   },
   "file_extension": ".py",
   "mimetype": "text/x-python",
   "name": "python",
   "nbconvert_exporter": "python",
   "pygments_lexer": "ipython3",
   "version": "3.12.7"
  }
 },
 "nbformat": 4,
 "nbformat_minor": 5
}
